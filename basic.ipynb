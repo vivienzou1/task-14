{
 "cells": [
  {
   "cell_type": "code",
   "execution_count": null,
   "metadata": {},
   "outputs": [],
   "source": [
    "# -*- coding: utf-8 -*-\n",
    "import pandas as pd\n",
    "\n",
    "#load the data\n",
    "test_data = pd.read_csv(\"test.csv\",encoding=\"ISO-8859-1\")\n",
    "train_data = pd.read_csv('train.csv', encoding=\"ISO-8859-1\")\n",
    "attributes = pd.read_csv(\"attributes.csv\", encoding=\"ISO-8859-1\")\n",
    "product_description = pd.read_csv(\"product_descriptions.csv\",encoding=\"ISO-8859-1\")\n",
    "\n",
    "\n",
    "#merge with product_description\n",
    "train_data_merge_descriptions = pd.merge(train_data,product_description,on = \"product_uid\", how = 'left')\n",
    "test_data_merge_descriptions  = pd.merge(test_data, product_description,on = \"product_uid\", how = 'left')\n",
    "\n",
    "# explore attributes and filter those with names are \"MFG Brand Name\" & \"Material\"\n",
    "attributes = attributes[attributes['value'] != 'No']\n",
    "brandName = attributes[attributes['name'] == \"MFG Brand Name\"]\n",
    "material = attributes[attributes['name'] == \"Material\"]\n",
    "\n",
    "# merge train and test with brand and material\n",
    "train_data_with_brand = pd.merge(train_data_merge_descriptions,brandName,on = \"product_uid\", how = 'left')\n",
    "test_data_with_brand = pd.merge(test_data_merge_descriptions,brandName,on = \"product_uid\", how = 'left')\n",
    "train_data = pd.merge(train_data_with_brand,material,on = \"product_uid\", how = 'left')\n",
    "test_data = pd.merge(test_data_with_band,material,on = \"product_uid\", how = 'left')\n",
    "print(test_data.head())"
   ]
  }
 ],
 "metadata": {
  "kernelspec": {
   "display_name": "Python 3",
   "language": "python",
   "name": "python3"
  },
  "language_info": {
   "codemirror_mode": {
    "name": "ipython",
    "version": 3
   },
   "file_extension": ".py",
   "mimetype": "text/x-python",
   "name": "python",
   "nbconvert_exporter": "python",
   "pygments_lexer": "ipython3",
   "version": "3.6.3"
  }
 },
 "nbformat": 4,
 "nbformat_minor": 2
}
